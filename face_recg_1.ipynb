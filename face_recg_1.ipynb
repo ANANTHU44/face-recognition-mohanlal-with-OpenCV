{
 "cells": [
  {
   "cell_type": "markdown",
   "metadata": {},
   "source": [
    "Import Libraries:"
   ]
  },
  {
   "cell_type": "code",
   "execution_count": 229,
   "metadata": {},
   "outputs": [],
   "source": [
    "import cv2\n",
    "import os\n",
    "import numpy as np\n"
   ]
  },
  {
   "cell_type": "markdown",
   "metadata": {},
   "source": [
    "Mapping Functions:\n",
    "These functions are used to map person names to numeric labels and vice versa."
   ]
  },
  {
   "cell_type": "code",
   "execution_count": 230,
   "metadata": {},
   "outputs": [],
   "source": [
    "def name_map(x):\n",
    "    if x==\"blake\":\n",
    "     return 0\n",
    "    if x==\"Mohanlal\":\n",
    "     return  1\n",
    "    if x==\"sharukh_khan\":\n",
    "     return 2"
   ]
  },
  {
   "cell_type": "code",
   "execution_count": 231,
   "metadata": {},
   "outputs": [],
   "source": [
    "def get_name(x):\n",
    "    if x== 0:\n",
    "     return \"blake\"\n",
    "    if x== 1 :\n",
    "     return  \"Mohanlal\"\n",
    "    if x== 2 :\n",
    "     return \"sharukh_khan\"\n",
    "    "
   ]
  },
  {
   "cell_type": "markdown",
   "metadata": {},
   "source": [
    "Face Detection:\n",
    "This function takes an input image and performs face detection using the Haar Cascade classifier. It returns the detected face region as well as the bounding box coordinates (x, y, width, height)."
   ]
  },
  {
   "cell_type": "code",
   "execution_count": 232,
   "metadata": {},
   "outputs": [],
   "source": [
    "def face_detect(img):\n",
    "    grey=cv2.cvtColor(img,cv2.COLOR_BGR2GRAY)\n",
    "    face_cascade=cv2.CascadeClassifier(r\"E:\\DL projects\\face_recognition_1\\haarcascade_frontalface_default (1).xml\")\n",
    "    face=face_cascade.detectMultiScale(grey,scaleFactor=1.1,minNeighbors=6)\n",
    "    if len(face)==0:\n",
    "        return None,None\n",
    "    x,y,w,h=face[0]\n",
    "    return grey[x:x+w,y:y+h],face[0]\n",
    "    "
   ]
  },
  {
   "cell_type": "markdown",
   "metadata": {},
   "source": [
    "Data Preparation:\n",
    "This function prepares the training data by reading images from the specified directory (DB_folder_path), detecting faces in each image, and storing the face regions along with their corresponding labels (mapped using name_map function)."
   ]
  },
  {
   "cell_type": "code",
   "execution_count": 233,
   "metadata": {},
   "outputs": [],
   "source": [
    "def prepare_training_data(DB_folder_path):\n",
    "    dir=os.listdir(DB_folder_path)\n",
    "  \n",
    "    #all folders with in base directory\n",
    "    faces_lst=[]\n",
    "    labels=[]\n",
    "    for face_folder in dir:\n",
    "       \n",
    "        faces=os.listdir(DB_folder_path+'/'+face_folder)\n",
    "       \n",
    "        #all images in each folder within base directory\n",
    "        for each_face in faces:\n",
    "            face_path=DB_folder_path+'/'+face_folder+'/'+each_face\n",
    "            #each face is readed\n",
    "            face=cv2.imread(face_path)\n",
    "            cv2.imshow(\"training_image\",face)\n",
    "            cv2.waitKey(20)\n",
    "\n",
    "            #detect face\n",
    "            face,rect=face_detect(face)\n",
    "            if face is not None:\n",
    "                \n",
    "                faces_lst.append(face)\n",
    "                labels.append(name_map(face_folder))\n",
    "\n",
    "                   \n",
    "\n",
    "    cv2.waitKey(1)\n",
    "    cv2.destroyAllWindows()\n",
    "    return faces_lst,labels\n",
    "\n",
    "\n"
   ]
  },
  {
   "cell_type": "code",
   "execution_count": 234,
   "metadata": {},
   "outputs": [],
   "source": [
    "faces_lst,labels=prepare_training_data(r\"E:\\DL projects\\face_recognition_1\\DataBase\")\n"
   ]
  },
  {
   "cell_type": "code",
   "execution_count": 235,
   "metadata": {},
   "outputs": [
    {
     "name": "stdout",
     "output_type": "stream",
     "text": [
      "Total faces 26\n"
     ]
    }
   ],
   "source": [
    "print(\"Total faces\",len(faces_lst))\n"
   ]
  },
  {
   "cell_type": "code",
   "execution_count": 236,
   "metadata": {},
   "outputs": [
    {
     "data": {
      "text/plain": [
       "26"
      ]
     },
     "execution_count": 236,
     "metadata": {},
     "output_type": "execute_result"
    }
   ],
   "source": [
    "len(labels)"
   ]
  },
  {
   "cell_type": "markdown",
   "metadata": {},
   "source": [
    "Training the Recognizer:\n",
    "It creates an LBPH (Local Binary Pattern Histogram) face recognizer using OpenCV and trains it using the prepared training data (faces_lst and labels)."
   ]
  },
  {
   "cell_type": "code",
   "execution_count": 237,
   "metadata": {},
   "outputs": [
    {
     "data": {
      "text/plain": [
       "< cv2.face.LBPHFaceRecognizer 000001AEC2F1C450>"
      ]
     },
     "execution_count": 237,
     "metadata": {},
     "output_type": "execute_result"
    }
   ],
   "source": [
    "#LBPH -local binory pattern histogram\n",
    "recognizer=cv2.face.LBPHFaceRecognizer_create()\n",
    "recognizer"
   ]
  },
  {
   "cell_type": "code",
   "execution_count": 238,
   "metadata": {},
   "outputs": [],
   "source": [
    "recognizer.train(faces_lst,np.array(labels))"
   ]
  },
  {
   "cell_type": "markdown",
   "metadata": {},
   "source": [
    "Drawing Rectangle and Text:\n",
    "These functions are used to draw a rectangle around the detected face and write the person's name on the image."
   ]
  },
  {
   "cell_type": "code",
   "execution_count": 239,
   "metadata": {},
   "outputs": [],
   "source": [
    "def draw_rectangle(img,rect):\n",
    "    (x,y,w,h)=rect\n",
    "    cv2.rectangle(img,(x,y),(x+w,y+h),(0, 0, 255),3)"
   ]
  },
  {
   "cell_type": "code",
   "execution_count": 240,
   "metadata": {},
   "outputs": [],
   "source": [
    "def write_text(img,text,x,y):\n",
    "    cv2.putText(img,text,(x,y),cv2.FONT_HERSHEY_COMPLEX,1,(255,255,255),2)"
   ]
  },
  {
   "cell_type": "markdown",
   "metadata": {},
   "source": [
    "Prediction:\n",
    "This function takes a test image, detects the face, predicts the label using the trained recognizer, and returns the image with the predicted label written on it.\n"
   ]
  },
  {
   "cell_type": "code",
   "execution_count": 241,
   "metadata": {},
   "outputs": [],
   "source": [
    "def predict_new(test_img):\n",
    "    img=test_img.copy()\n",
    "    face,rect=face_detect(img)\n",
    "    if face is not None:\n",
    "      label=recognizer.predict(face)\n",
    "      label_text=get_name(label[0])\n",
    "      draw_rectangle(img,rect)\n",
    "      write_text(img,label_text,rect[0],rect[1]-120)\n",
    "    return img\n",
    "    \n"
   ]
  },
  {
   "cell_type": "code",
   "execution_count": 242,
   "metadata": {},
   "outputs": [
    {
     "name": "stdout",
     "output_type": "stream",
     "text": [
      "press q to stop the image from showing\n"
     ]
    }
   ],
   "source": [
    "test_img=cv2.imread(r\"E:\\DL projects\\face_recognition_1\\test(mohanlal).jpg\")\n",
    "# print(test_img)\n",
    "print(\"press q to stop the image from showing\")"
   ]
  },
  {
   "cell_type": "code",
   "execution_count": 243,
   "metadata": {},
   "outputs": [
    {
     "name": "stdout",
     "output_type": "stream",
     "text": [
      "press q to stop the image from showing\n"
     ]
    }
   ],
   "source": [
    "cv2.imshow('test  image',test_img)\n",
    "while True:\n",
    " if cv2.waitKey(1) & 0XFF==ord(\"q\"):\n",
    "    break\n",
    "cv2.destroyAllWindows()\n",
    "print(\"press q to stop the image from showing\")\n",
    "\n"
   ]
  },
  {
   "cell_type": "code",
   "execution_count": 244,
   "metadata": {},
   "outputs": [
    {
     "name": "stdout",
     "output_type": "stream",
     "text": [
      "press q to stop the image from showing\n"
     ]
    }
   ],
   "source": [
    "print(\"press q to stop the image from showing\")\n",
    "predicted=predict_new(test_img)\n",
    "cv2.imshow(\"predicted image\",predicted)\n",
    "while True:\n",
    " if cv2.waitKey(1) & 0XFF==ord(\"q\"):\n",
    "    break\n",
    "cv2.destroyAllWindows()"
   ]
  }
 ],
 "metadata": {
  "kernelspec": {
   "display_name": "Python 3",
   "language": "python",
   "name": "python3"
  },
  "language_info": {
   "codemirror_mode": {
    "name": "ipython",
    "version": 3
   },
   "file_extension": ".py",
   "mimetype": "text/x-python",
   "name": "python",
   "nbconvert_exporter": "python",
   "pygments_lexer": "ipython3",
   "version": "3.9.11"
  },
  "orig_nbformat": 4
 },
 "nbformat": 4,
 "nbformat_minor": 2
}
